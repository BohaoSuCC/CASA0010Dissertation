{
 "cells": [
  {
   "cell_type": "code",
   "execution_count": 9,
   "metadata": {},
   "outputs": [],
   "source": [
    "import numpy as np\n",
    "import pandas as pd\n",
    "import networkx as nx\n",
    "import pygenstability as pgs\n",
    "import matplotlib.pyplot as plt\n",
    "import numpy as np\n",
    "import scipy as sp\n",
    "from scipy.sparse import csr_array, csr_matrix\n",
    "from scipy.sparse.csgraph import shortest_path\n",
    "from pygenstability import plotting\n",
    "import community as community_louvain\n",
    "from infomap import Infomap"
   ]
  },
  {
   "cell_type": "code",
   "execution_count": 10,
   "metadata": {},
   "outputs": [
    {
     "data": {
      "text/html": [
       "<div>\n",
       "<style scoped>\n",
       "    .dataframe tbody tr th:only-of-type {\n",
       "        vertical-align: middle;\n",
       "    }\n",
       "\n",
       "    .dataframe tbody tr th {\n",
       "        vertical-align: top;\n",
       "    }\n",
       "\n",
       "    .dataframe thead th {\n",
       "        text-align: right;\n",
       "    }\n",
       "</style>\n",
       "<table border=\"1\" class=\"dataframe\">\n",
       "  <thead>\n",
       "    <tr style=\"text-align: right;\">\n",
       "      <th></th>\n",
       "      <th>place_id</th>\n",
       "      <th>display_na</th>\n",
       "      <th>name</th>\n",
       "      <th>osm_id</th>\n",
       "      <th>community_GMC_id_8</th>\n",
       "      <th>community_id3</th>\n",
       "    </tr>\n",
       "  </thead>\n",
       "  <tbody>\n",
       "    <tr>\n",
       "      <th>8</th>\n",
       "      <td>378239909</td>\n",
       "      <td>Huzhou, Zhejiang, China</td>\n",
       "      <td>Huzhou</td>\n",
       "      <td>3149738</td>\n",
       "      <td>1</td>\n",
       "      <td>1</td>\n",
       "    </tr>\n",
       "    <tr>\n",
       "      <th>19</th>\n",
       "      <td>391115975</td>\n",
       "      <td>Wuxi City, Jiangsu, China</td>\n",
       "      <td>Wuxi City</td>\n",
       "      <td>4430942</td>\n",
       "      <td>2</td>\n",
       "      <td>2</td>\n",
       "    </tr>\n",
       "    <tr>\n",
       "      <th>13</th>\n",
       "      <td>197160785</td>\n",
       "      <td>Nantong, Jiangsu, China</td>\n",
       "      <td>Nantong</td>\n",
       "      <td>4430899</td>\n",
       "      <td>0</td>\n",
       "      <td>2</td>\n",
       "    </tr>\n",
       "  </tbody>\n",
       "</table>\n",
       "</div>"
      ],
      "text/plain": [
       "     place_id                 display_na       name   osm_id  \\\n",
       "8   378239909    Huzhou, Zhejiang, China     Huzhou  3149738   \n",
       "19  391115975  Wuxi City, Jiangsu, China  Wuxi City  4430942   \n",
       "13  197160785    Nantong, Jiangsu, China    Nantong  4430899   \n",
       "\n",
       "    community_GMC_id_8  community_id3  \n",
       "8                    1              1  \n",
       "19                   2              2  \n",
       "13                   0              2  "
      ]
     },
     "execution_count": 10,
     "metadata": {},
     "output_type": "execute_result"
    }
   ],
   "source": [
    "# load the data\n",
    "Partition_eco = pd.read_csv('data/python/Partition_eco2017.csv')\n",
    "Partition_road = pd.read_csv('data/python/Partition_road.csv')\n",
    "# merge two dataframes into one, by the column'display_na' from Partition_eco and column 'city_name' Partition_road\n",
    "Partition = pd.merge(Partition_eco, Partition_road, left_on='display_na', right_on='city_name')\n",
    "# drop the column 'city_name'\n",
    "Partition = Partition.drop(columns=['city_name'])\n",
    "Partition.sample(3)"
   ]
  },
  {
   "cell_type": "code",
   "execution_count": 11,
   "metadata": {},
   "outputs": [],
   "source": [
    "# load the graph from graphml file\n",
    "G_road = nx.read_graphml('data/python/Spatial_network.graphml')\n",
    "G_eco = nx.read_graphml('data/python/Industry_network_raw.graphml')\n",
    "G_ecocut = nx.read_graphml('data/python/Industry_network_cut.graphml')"
   ]
  },
  {
   "cell_type": "code",
   "execution_count": 12,
   "metadata": {},
   "outputs": [],
   "source": [
    "# convert the 'pos' attribute of the nodes from string to tuple, first need to delete the \"(\" and \")\" in the string, and then split the string by \",\"\n",
    "def pos_str_to_tuple(G):\n",
    "    for node in G.nodes:\n",
    "        G.nodes[node]['pos'] = tuple(map(float, G.nodes[node]['pos'][1:-1].split(',')))\n",
    "    return G\n",
    "\n",
    "G_road = pos_str_to_tuple(G_road)\n",
    "G_eco = pos_str_to_tuple(G_eco)\n",
    "G_ecocut = pos_str_to_tuple(G_ecocut)"
   ]
  },
  {
   "cell_type": "code",
   "execution_count": 13,
   "metadata": {},
   "outputs": [
    {
     "data": {
      "text/plain": [
       "\"\\n# change to undirected graph\\n# the edge weight is the sum of the weight of the two directions in the G_eco graph\\nfor edge in G_eco.edges:\\n    G_eco.edges[edge]['weight'] = G_eco.edges[edge]['weight'] + G_eco.edges[(edge[1], edge[0])]['weight']\\n# and then change the graph to undirected\\nG_eco = G_eco.to_undirected()\\n#check if the graph is directed \\nG_eco.is_directed()\\n\""
      ]
     },
     "execution_count": 13,
     "metadata": {},
     "output_type": "execute_result"
    }
   ],
   "source": [
    "\"\"\"\n",
    "# change to undirected graph\n",
    "# the edge weight is the sum of the weight of the two directions in the G_eco graph\n",
    "for edge in G_eco.edges:\n",
    "    G_eco.edges[edge]['weight'] = G_eco.edges[edge]['weight'] + G_eco.edges[(edge[1], edge[0])]['weight']\n",
    "# and then change the graph to undirected\n",
    "G_eco = G_eco.to_undirected()\n",
    "#check if the graph is directed \n",
    "G_eco.is_directed()\n",
    "\"\"\""
   ]
  },
  {
   "cell_type": "code",
   "execution_count": 14,
   "metadata": {},
   "outputs": [
    {
     "data": {
      "text/plain": [
       "Index(['place_id', 'display_na', 'name', 'osm_id', 'community_GMC_id_8',\n",
       "       'community_id3'],\n",
       "      dtype='object')"
      ]
     },
     "execution_count": 14,
     "metadata": {},
     "output_type": "execute_result"
    }
   ],
   "source": [
    "Partition.columns"
   ]
  },
  {
   "cell_type": "code",
   "execution_count": 15,
   "metadata": {},
   "outputs": [
    {
     "data": {
      "text/plain": [
       "[]"
      ]
     },
     "execution_count": 15,
     "metadata": {},
     "output_type": "execute_result"
    }
   ],
   "source": [
    "eco_com_list = Partition.columns[4:7].tolist()\n",
    "road_com_list = Partition.columns[8:9].tolist()\n",
    "road_com_list"
   ]
  },
  {
   "cell_type": "code",
   "execution_count": 16,
   "metadata": {},
   "outputs": [],
   "source": [
    "# convert the partition results in DataFrame to dictionary\n",
    "partition_eco = Partition.set_index('display_na')['community_GMC_id_8'].to_dict()\n",
    "partition_road = Partition.set_index('display_na')['community_id3'].to_dict()"
   ]
  },
  {
   "cell_type": "code",
   "execution_count": 17,
   "metadata": {},
   "outputs": [],
   "source": [
    "from networkx.algorithms.community import modularity"
   ]
  },
  {
   "cell_type": "code",
   "execution_count": 21,
   "metadata": {},
   "outputs": [
    {
     "data": {
      "text/plain": [
       "0.2036501937047027"
      ]
     },
     "execution_count": 21,
     "metadata": {},
     "output_type": "execute_result"
    }
   ],
   "source": [
    "#convert the partition_road to a list of lists, where each list contains the nodes in the same community\n",
    "partition_road_list = []\n",
    "for i in range(0, len(set(partition_road.values()))):\n",
    "    partition_road_list.append([key for key, value in partition_road.items() if value == i])\n",
    "\n",
    "partition_eco_list = []\n",
    "for i in range(0, len(set(partition_eco.values()))):\n",
    "    partition_eco_list.append([key for key, value in partition_eco.items() if value == i])\n",
    "\n",
    "modularity(G_road, partition_road_list)"
   ]
  },
  {
   "cell_type": "code",
   "execution_count": 40,
   "metadata": {},
   "outputs": [
    {
     "data": {
      "text/plain": [
       "['Anqing, Anhui, China',\n",
       " 'Changzhou, Jiangsu, China',\n",
       " 'Chizhou, Anhui, China',\n",
       " 'Chuzhou, Anhui, China',\n",
       " 'Hangzhou City, Zhejiang, China',\n",
       " 'Hefei, Anhui, China',\n",
       " 'Huzhou, Zhejiang, China',\n",
       " 'Jiaxing, Zhejiang, China',\n",
       " 'Jinhua, Zhejiang, China',\n",
       " \"Ma'anshan, Anhui, China\",\n",
       " 'Nanjing, Jiangsu, China',\n",
       " 'Nantong, Jiangsu, China',\n",
       " 'Ningbo, Zhejiang, China',\n",
       " 'Shanghai, China',\n",
       " 'Shaoxing, Zhejiang, China',\n",
       " 'Suzhou City, Jiangsu, China',\n",
       " 'Taizhou, Jiangsu, China',\n",
       " 'Taizhou, Zhejiang, China',\n",
       " 'Tongling, Anhui, China',\n",
       " 'Wuhu, Anhui, China',\n",
       " 'Wuxi City, Jiangsu, China',\n",
       " 'Xuancheng, Anhui, China',\n",
       " 'Yancheng City, Jiangsu, China',\n",
       " 'Yangzhou City, Jiangsu, China',\n",
       " 'Zhenjiang, Jiangsu, China',\n",
       " 'Zhoushan, Zhejiang, China']"
      ]
     },
     "execution_count": 40,
     "metadata": {},
     "output_type": "execute_result"
    }
   ],
   "source": [
    "sorted_nodes = sorted(G_road.nodes())\n",
    "sorted_nodes"
   ]
  },
  {
   "cell_type": "code",
   "execution_count": 45,
   "metadata": {},
   "outputs": [],
   "source": [
    "from scipy.linalg import inv\n",
    "\n",
    "def compute_affinity_matrix(G, epsilon=0.01, sorted_nodes=None):\n",
    "    # 获取邻接矩阵\n",
    "    A = nx.to_numpy_array(G, nodelist=sorted_nodes, weight='weight')\n",
    "    # 节点数量\n",
    "    n = A.shape[0]\n",
    "    # 度矩阵\n",
    "    D = np.diag([G.degree(i) for i in G.nodes()])\n",
    "    # 传播矩阵计算\n",
    "    S = inv(np.eye(n) + epsilon**2 * D - epsilon * A)\n",
    "    return S\n",
    "\n",
    "def delta_con(G1, G2, epsilon=0.01, sorted_nodes=None):\n",
    "    S_G1 = compute_affinity_matrix(G1, epsilon, sorted_nodes=sorted_nodes)\n",
    "    S_G2 = compute_affinity_matrix(G2, epsilon, sorted_nodes=sorted_nodes)\n",
    "    \n",
    "    # 计算传播距离差异矩阵\n",
    "    delta = np.sqrt(np.abs(S_G1 - S_G2))\n",
    "    \n",
    "    # 计算DeltaCon全局相似度\n",
    "    delta_con_score = 1 / (1 + np.sum(delta))\n",
    "    \n",
    "    return delta_con_score"
   ]
  },
  {
   "cell_type": "code",
   "execution_count": 46,
   "metadata": {},
   "outputs": [],
   "source": [
    "\n",
    "A = nx.to_numpy_array(G_road, nodelist=sorted_nodes, weight='weight')\n",
    "B = nx.to_numpy_array(G_eco, nodelist=sorted_nodes, weight='weight')"
   ]
  },
  {
   "cell_type": "code",
   "execution_count": 43,
   "metadata": {},
   "outputs": [
    {
     "data": {
      "text/plain": [
       "False"
      ]
     },
     "execution_count": 43,
     "metadata": {},
     "output_type": "execute_result"
    }
   ],
   "source": [
    "#check if the G_road and G_eco share the same nodes in the same order\n",
    "G_eco.nodes() == G_road.nodes()"
   ]
  },
  {
   "cell_type": "code",
   "execution_count": 44,
   "metadata": {},
   "outputs": [
    {
     "data": {
      "text/plain": [
       "['Anqing, Anhui, China',\n",
       " 'Changzhou, Jiangsu, China',\n",
       " 'Chizhou, Anhui, China',\n",
       " 'Chuzhou, Anhui, China',\n",
       " 'Hangzhou City, Zhejiang, China',\n",
       " 'Hefei, Anhui, China',\n",
       " 'Huzhou, Zhejiang, China',\n",
       " 'Jiaxing, Zhejiang, China',\n",
       " 'Jinhua, Zhejiang, China',\n",
       " \"Ma'anshan, Anhui, China\",\n",
       " 'Nanjing, Jiangsu, China',\n",
       " 'Nantong, Jiangsu, China',\n",
       " 'Ningbo, Zhejiang, China',\n",
       " 'Shanghai, China',\n",
       " 'Shaoxing, Zhejiang, China',\n",
       " 'Suzhou City, Jiangsu, China',\n",
       " 'Taizhou, Jiangsu, China',\n",
       " 'Taizhou, Zhejiang, China',\n",
       " 'Tongling, Anhui, China',\n",
       " 'Wuhu, Anhui, China',\n",
       " 'Wuxi City, Jiangsu, China',\n",
       " 'Xuancheng, Anhui, China',\n",
       " 'Yancheng City, Jiangsu, China',\n",
       " 'Yangzhou City, Jiangsu, China',\n",
       " 'Zhenjiang, Jiangsu, China',\n",
       " 'Zhoushan, Zhejiang, China']"
      ]
     },
     "execution_count": 44,
     "metadata": {},
     "output_type": "execute_result"
    }
   ],
   "source": [
    "sorted_nodes"
   ]
  },
  {
   "cell_type": "code",
   "execution_count": 42,
   "metadata": {},
   "outputs": [
    {
     "name": "stdout",
     "output_type": "stream",
     "text": [
      "DeltaCon similarity score: 0.013478955465142162\n"
     ]
    }
   ],
   "source": [
    "# 计算DeltaCon相似度\n",
    "similarity_score = delta_con(G_road, G_eco, sorted_nodes=sorted_nodes)\n",
    "print(f\"DeltaCon similarity score: {similarity_score}\")"
   ]
  },
  {
   "cell_type": "code",
   "execution_count": null,
   "metadata": {},
   "outputs": [],
   "source": []
  },
  {
   "cell_type": "code",
   "execution_count": 26,
   "metadata": {},
   "outputs": [
    {
     "data": {
      "text/plain": [
       "True"
      ]
     },
     "execution_count": 26,
     "metadata": {},
     "output_type": "execute_result"
    }
   ],
   "source": [
    "\n",
    "\n"
   ]
  },
  {
   "cell_type": "code",
   "execution_count": 51,
   "metadata": {},
   "outputs": [],
   "source": [
    "from math import exp\n",
    "# Define the function to compute the undirected modularity\n",
    "def compute_undirected_modularity(G, partition):\n",
    "    m = G.size(weight='weight')\n",
    "    Q = 0.0\n",
    "    for u in G.nodes():\n",
    "        for v in G.nodes():\n",
    "            if partition[u] == partition[v]:\n",
    "                A_uv = G[u][v]['weight'] if G.has_edge(u, v) else 0.0\n",
    "                k_u = G.degree(u, weight='weight')\n",
    "                k_v = G.degree(v, weight='weight')\n",
    "                Q += A_uv - (k_u * k_v) / (2 * m)\n",
    "    return Q / (2 * m)\n",
    "\n",
    "# The main function to compute bidirectional distance\n",
    "def compute_bidirectional_distance(G_road, G_eco, partition_road_list, partition_eco_list, method=\"modularity\"):\n",
    "    if method == \"modularity\":\n",
    "        F_road_road = modularity(G_road, partition_road_list)\n",
    "        F_road_eco = modularity(G_road, partition_eco_list)\n",
    "        F_eco_road = modularity(G_eco, partition_road_list)\n",
    "        F_eco_eco = modularity(G_eco, partition_eco_list)\n",
    "    else:\n",
    "        raise ValueError(\"Unknown method: {}\".format(method))\n",
    "    \n",
    "    d_road_eco = 1 + (F_eco_road / F_road_road)\n",
    "    d_eco_road = 1 + (F_road_eco / F_eco_eco)\n",
    "    \n",
    "    return d_road_eco, d_eco_road, F_road_road, F_road_eco, F_eco_road, F_eco_eco\n",
    "\n",
    "# Define the function to compute the bidirectional distance\n",
    "def bidir_distance(G_road, G_eco, partition_road, partition_eco, method=\"modularity\"):\n",
    "    d_road_eco, d_eco_road, F_road_road, F_road_eco, F_eco_road, F_eco_eco = compute_bidirectional_distance(G_road, G_eco, partition_road, partition_eco, method)\n",
    "    return ((d_road_eco, d_eco_road), (F_road_road, F_road_eco, F_eco_road, F_eco_eco))\n"
   ]
  },
  {
   "cell_type": "code",
   "execution_count": 54,
   "metadata": {},
   "outputs": [
    {
     "ename": "NotAPartition",
     "evalue": "['Suzhou City, Jiangsu, China', 'Yangzhou City, Jiangsu, China', 'Anqing, Anhui, China', 'Changzhou, Jiangsu, China', 'Chizhou, Anhui, China', 'Chuzhou, Anhui, China', 'Hangzhou City, Zhejiang, China', 'Hefei, Anhui, China', 'Huzhou, Zhejiang, China', 'Jiaxing, Zhejiang, China', 'Jinhua, Zhejiang, China', \"Ma'anshan, Anhui, China\", 'Nanjing, Jiangsu, China', 'Nantong, Jiangsu, China', 'Ningbo, Zhejiang, China', 'Shaoxing, Zhejiang, China', 'Taizhou, Zhejiang, China', 'Taizhou, Jiangsu, China', 'Tongling, Anhui, China', 'Wuxi City, Jiangsu, China', 'Wuhu, Anhui, China', 'Xuancheng, Anhui, China', 'Yancheng City, Jiangsu, China', 'Zhenjiang, Jiangsu, China', 'Zhoushan, Zhejiang, China', 'Shanghai, China'] is not a valid partition of the graph Graph with 26 nodes and 325 edges",
     "output_type": "error",
     "traceback": [
      "\u001b[1;31m---------------------------------------------------------------------------\u001b[0m",
      "\u001b[1;31mNotAPartition\u001b[0m                             Traceback (most recent call last)",
      "Cell \u001b[1;32mIn[54], line 2\u001b[0m\n\u001b[0;32m      1\u001b[0m \u001b[38;5;66;03m# 计算并输出结果\u001b[39;00m\n\u001b[1;32m----> 2\u001b[0m BiDir_modularity \u001b[38;5;241m=\u001b[39m \u001b[43mcompute_bidirectional_distance\u001b[49m\u001b[43m(\u001b[49m\u001b[43mG_road\u001b[49m\u001b[43m,\u001b[49m\u001b[43m \u001b[49m\u001b[43mG_eco\u001b[49m\u001b[43m,\u001b[49m\u001b[43m \u001b[49m\u001b[43mpartition_road\u001b[49m\u001b[43m,\u001b[49m\u001b[43m \u001b[49m\u001b[43mpartition_eco\u001b[49m\u001b[43m,\u001b[49m\u001b[43m \u001b[49m\u001b[43mmethod\u001b[49m\u001b[38;5;241;43m=\u001b[39;49m\u001b[38;5;124;43m\"\u001b[39;49m\u001b[38;5;124;43mmodularity\u001b[39;49m\u001b[38;5;124;43m\"\u001b[39;49m\u001b[43m)\u001b[49m\n\u001b[0;32m      3\u001b[0m \u001b[38;5;28mprint\u001b[39m(\u001b[38;5;124m\"\u001b[39m\u001b[38;5;124mBiDir distance using modularity:\u001b[39m\u001b[38;5;124m\"\u001b[39m, BiDir_modularity[\u001b[38;5;241m0\u001b[39m])\n\u001b[0;32m      4\u001b[0m \u001b[38;5;28mprint\u001b[39m(\u001b[38;5;124m\"\u001b[39m\u001b[38;5;124mF_road_road:\u001b[39m\u001b[38;5;124m\"\u001b[39m, BiDir_modularity[\u001b[38;5;241m1\u001b[39m][\u001b[38;5;241m0\u001b[39m])\n",
      "Cell \u001b[1;32mIn[51], line 18\u001b[0m, in \u001b[0;36mcompute_bidirectional_distance\u001b[1;34m(G_road, G_eco, partition_road_list, partition_eco_list, method)\u001b[0m\n\u001b[0;32m     16\u001b[0m \u001b[38;5;28;01mdef\u001b[39;00m \u001b[38;5;21mcompute_bidirectional_distance\u001b[39m(G_road, G_eco, partition_road_list, partition_eco_list, method\u001b[38;5;241m=\u001b[39m\u001b[38;5;124m\"\u001b[39m\u001b[38;5;124mmodularity\u001b[39m\u001b[38;5;124m\"\u001b[39m):\n\u001b[0;32m     17\u001b[0m     \u001b[38;5;28;01mif\u001b[39;00m method \u001b[38;5;241m==\u001b[39m \u001b[38;5;124m\"\u001b[39m\u001b[38;5;124mmodularity\u001b[39m\u001b[38;5;124m\"\u001b[39m:\n\u001b[1;32m---> 18\u001b[0m         F_road_road \u001b[38;5;241m=\u001b[39m \u001b[43mmodularity\u001b[49m\u001b[43m(\u001b[49m\u001b[43mG_road\u001b[49m\u001b[43m,\u001b[49m\u001b[43m \u001b[49m\u001b[43mpartition_road_list\u001b[49m\u001b[43m)\u001b[49m\n\u001b[0;32m     19\u001b[0m         F_road_eco \u001b[38;5;241m=\u001b[39m modularity(G_road, partition_eco_list)\n\u001b[0;32m     20\u001b[0m         F_eco_road \u001b[38;5;241m=\u001b[39m modularity(G_eco, partition_road_list)\n",
      "File \u001b[1;32m<class 'networkx.utils.decorators.argmap'> compilation 22:3\u001b[0m, in \u001b[0;36margmap_modularity_19\u001b[1;34m(G, communities, weight, resolution, backend, **backend_kwargs)\u001b[0m\n\u001b[0;32m      1\u001b[0m \u001b[38;5;28;01mimport\u001b[39;00m \u001b[38;5;21;01mbz2\u001b[39;00m\n\u001b[0;32m      2\u001b[0m \u001b[38;5;28;01mimport\u001b[39;00m \u001b[38;5;21;01mcollections\u001b[39;00m\n\u001b[1;32m----> 3\u001b[0m \u001b[38;5;28;01mimport\u001b[39;00m \u001b[38;5;21;01mgzip\u001b[39;00m\n\u001b[0;32m      4\u001b[0m \u001b[38;5;28;01mimport\u001b[39;00m \u001b[38;5;21;01minspect\u001b[39;00m\n\u001b[0;32m      5\u001b[0m \u001b[38;5;28;01mimport\u001b[39;00m \u001b[38;5;21;01mitertools\u001b[39;00m\n",
      "File \u001b[1;32mc:\\Users\\SBH\\anaconda3\\Lib\\site-packages\\networkx\\utils\\backends.py:633\u001b[0m, in \u001b[0;36m_dispatchable.__call__\u001b[1;34m(self, backend, *args, **kwargs)\u001b[0m\n\u001b[0;32m    628\u001b[0m \u001b[38;5;250m\u001b[39m\u001b[38;5;124;03m\"\"\"Returns the result of the original function, or the backend function if\u001b[39;00m\n\u001b[0;32m    629\u001b[0m \u001b[38;5;124;03mthe backend is specified and that backend implements `func`.\"\"\"\u001b[39;00m\n\u001b[0;32m    631\u001b[0m \u001b[38;5;28;01mif\u001b[39;00m \u001b[38;5;129;01mnot\u001b[39;00m backends:\n\u001b[0;32m    632\u001b[0m     \u001b[38;5;66;03m# Fast path if no backends are installed\u001b[39;00m\n\u001b[1;32m--> 633\u001b[0m     \u001b[38;5;28;01mreturn\u001b[39;00m \u001b[38;5;28;43mself\u001b[39;49m\u001b[38;5;241;43m.\u001b[39;49m\u001b[43morig_func\u001b[49m\u001b[43m(\u001b[49m\u001b[38;5;241;43m*\u001b[39;49m\u001b[43margs\u001b[49m\u001b[43m,\u001b[49m\u001b[43m \u001b[49m\u001b[38;5;241;43m*\u001b[39;49m\u001b[38;5;241;43m*\u001b[39;49m\u001b[43mkwargs\u001b[49m\u001b[43m)\u001b[49m\n\u001b[0;32m    635\u001b[0m \u001b[38;5;66;03m# Use `backend_name` in this function instead of `backend`\u001b[39;00m\n\u001b[0;32m    636\u001b[0m backend_name \u001b[38;5;241m=\u001b[39m backend\n",
      "File \u001b[1;32mc:\\Users\\SBH\\anaconda3\\Lib\\site-packages\\networkx\\algorithms\\community\\quality.py:232\u001b[0m, in \u001b[0;36mmodularity\u001b[1;34m(G, communities, weight, resolution)\u001b[0m\n\u001b[0;32m    230\u001b[0m     communities \u001b[38;5;241m=\u001b[39m \u001b[38;5;28mlist\u001b[39m(communities)\n\u001b[0;32m    231\u001b[0m \u001b[38;5;28;01mif\u001b[39;00m \u001b[38;5;129;01mnot\u001b[39;00m is_partition(G, communities):\n\u001b[1;32m--> 232\u001b[0m     \u001b[38;5;28;01mraise\u001b[39;00m NotAPartition(G, communities)\n\u001b[0;32m    234\u001b[0m directed \u001b[38;5;241m=\u001b[39m G\u001b[38;5;241m.\u001b[39mis_directed()\n\u001b[0;32m    235\u001b[0m \u001b[38;5;28;01mif\u001b[39;00m directed:\n",
      "\u001b[1;31mNotAPartition\u001b[0m: ['Suzhou City, Jiangsu, China', 'Yangzhou City, Jiangsu, China', 'Anqing, Anhui, China', 'Changzhou, Jiangsu, China', 'Chizhou, Anhui, China', 'Chuzhou, Anhui, China', 'Hangzhou City, Zhejiang, China', 'Hefei, Anhui, China', 'Huzhou, Zhejiang, China', 'Jiaxing, Zhejiang, China', 'Jinhua, Zhejiang, China', \"Ma'anshan, Anhui, China\", 'Nanjing, Jiangsu, China', 'Nantong, Jiangsu, China', 'Ningbo, Zhejiang, China', 'Shaoxing, Zhejiang, China', 'Taizhou, Zhejiang, China', 'Taizhou, Jiangsu, China', 'Tongling, Anhui, China', 'Wuxi City, Jiangsu, China', 'Wuhu, Anhui, China', 'Xuancheng, Anhui, China', 'Yancheng City, Jiangsu, China', 'Zhenjiang, Jiangsu, China', 'Zhoushan, Zhejiang, China', 'Shanghai, China'] is not a valid partition of the graph Graph with 26 nodes and 325 edges"
     ]
    }
   ],
   "source": [
    "\n",
    "# 计算并输出结果\n",
    "BiDir_modularity = bidir_distance(G_road, G_eco, partition_road, partition_eco, method=\"modularity\")\n",
    "print(\"BiDir distance using modularity:\", BiDir_modularity[0])\n",
    "print(\"F_road_road:\", BiDir_modularity[1][0])\n",
    "print(\"F_road_eco:\", BiDir_modularity[1][1])\n",
    "print(\"F_eco_road:\", BiDir_modularity[1][2])\n",
    "print(\"F_eco_eco:\", BiDir_modularity[1][3])\n"
   ]
  },
  {
   "cell_type": "code",
   "execution_count": 13,
   "metadata": {},
   "outputs": [
    {
     "data": {
      "text/plain": [
       "((0.99743204871396, 1.6486196192495317),\n",
       " (0.20365019370470275,\n",
       "  0.009163675011606975,\n",
       "  -0.0005229637768263032,\n",
       "  0.014127964587641624))"
      ]
     },
     "execution_count": 13,
     "metadata": {},
     "output_type": "execute_result"
    }
   ],
   "source": [
    "BiDir_modularity"
   ]
  },
  {
   "cell_type": "code",
   "execution_count": 35,
   "metadata": {},
   "outputs": [],
   "source": [
    "# create a dataframe to store the bi-directional distance results\n",
    "BiDir_distance = pd.DataFrame(columns=['eco_commu_method', 'road_commu_method', 'd_road_eco', 'd_eco_road', 'F_road_road', 'F_road_eco', 'F_eco_road', 'F_eco_eco'])\n"
   ]
  },
  {
   "cell_type": "code",
   "execution_count": 37,
   "metadata": {},
   "outputs": [
    {
     "data": {
      "text/html": [
       "<div>\n",
       "<style scoped>\n",
       "    .dataframe tbody tr th:only-of-type {\n",
       "        vertical-align: middle;\n",
       "    }\n",
       "\n",
       "    .dataframe tbody tr th {\n",
       "        vertical-align: top;\n",
       "    }\n",
       "\n",
       "    .dataframe thead th {\n",
       "        text-align: right;\n",
       "    }\n",
       "</style>\n",
       "<table border=\"1\" class=\"dataframe\">\n",
       "  <thead>\n",
       "    <tr style=\"text-align: right;\">\n",
       "      <th></th>\n",
       "    </tr>\n",
       "  </thead>\n",
       "  <tbody>\n",
       "  </tbody>\n",
       "</table>\n",
       "</div>"
      ],
      "text/plain": [
       "Empty DataFrame\n",
       "Columns: []\n",
       "Index: []"
      ]
     },
     "execution_count": 37,
     "metadata": {},
     "output_type": "execute_result"
    }
   ],
   "source": [
    "# 创建一个列表来存储所有结果字典\n",
    "results = []\n",
    "\n",
    "# 计算双向距离并存储结果\n",
    "for eco_com in eco_com_list:\n",
    "    for road_com in road_com_list:\n",
    "        partition_road = Partition.set_index('display_na')[road_com].to_dict()\n",
    "        partition_eco = Partition.set_index('display_na')[eco_com].to_dict()\n",
    "        BiDir_modularity = bidir_distance(G_road, G_eco, partition_road, partition_eco, method=\"modularity\")\n",
    "        results.append({\n",
    "            'eco_commu_method': eco_com,\n",
    "            'road_commu_method': road_com,\n",
    "            'd_road_eco': BiDir_modularity[0][0],\n",
    "            'd_eco_road': BiDir_modularity[0][1],\n",
    "            'F_road_road': BiDir_modularity[1][0],\n",
    "            'F_road_eco': BiDir_modularity[1][1],\n",
    "            'F_eco_road': BiDir_modularity[1][2],\n",
    "            'F_eco_eco': BiDir_modularity[1][3]\n",
    "        })\n",
    "\n",
    "# 将结果列表转换为DataFrame\n",
    "BiDir_distance = pd.DataFrame(results)\n",
    "BiDir_distance"
   ]
  },
  {
   "cell_type": "code",
   "execution_count": 83,
   "metadata": {},
   "outputs": [],
   "source": [
    "# add a new column called 'method_name', which is the string between the first \"_\" and the second \"_\" in the column 'eco_commu_method'\n",
    "method_name = ['GMM(GreedyModularity)', 'Spectral(Bicluster)', 'Spectral(Kmeans)']\n",
    "BiDir_distance['method_name'] = method_name"
   ]
  },
  {
   "cell_type": "code",
   "execution_count": 85,
   "metadata": {},
   "outputs": [
    {
     "data": {
      "image/png": "[encoded data removed]",
      "text/plain": [
       "<Figure size 640x480 with 1 Axes>"
      ]
     },
     "metadata": {},
     "output_type": "display_data"
    }
   ],
   "source": [
    "# plot the d_road_eco and d_eco_road column in a scatter plot, and use the color for different eco_commu_method and road_commu_method as legend\n",
    "fig, ax = plt.subplots()\n",
    "\n",
    "# set the x and y axis from 0 to 1, and add a diagonal dashed line, color is blue\n",
    "ax.set_xlim(0, 1)\n",
    "ax.set_ylim(-0.05, 1)\n",
    "ax.plot([0, 1], [0, 1], linestyle='--', color='blue')\n",
    "\n",
    "# set the scatter's size to 5\n",
    "size = 30\n",
    "# loop over the rows in the BiDir_distance dataframe\n",
    "for i, row in BiDir_distance.iterrows():\n",
    "    # plot the scatter plot\n",
    "    ax.scatter(row['d_road_eco'], row['d_eco_road'], s=size, label=row['method_name'] + ' & Road' )\n",
    "\n",
    "\n",
    "ax.set_xlabel('d (road, eco)')\n",
    "ax.set_ylabel('d (eco, road)')\n",
    "ax.legend()\n",
    "plt.show()"
   ]
  },
  {
   "cell_type": "code",
   "execution_count": null,
   "metadata": {},
   "outputs": [],
   "source": [
    "# plot the d_road_eco and d_eco_road column in a scatter plot, and use the color for different eco_commu_method and road_commu_method as legend\n",
    "fig, ax = plt.subplots()\n",
    "\n",
    "# set the x and y axis from 0 to 1, and add a diagonal dashed line\n",
    "ax.set_xlim(0.15, 0.25)\n",
    "ax.set_ylim(-0.04, 0.05)\n",
    "ax.plot([0, 1], [0, 1], 'k--')\n",
    "# set the scatter's size to 5\n",
    "size = 30\n",
    "# loop over the rows in the BiDir_distance dataframe\n",
    "for i, row in BiDir_distance.iterrows():\n",
    "    # plot the scatter plot\n",
    "    ax.scatter(row['d_road_eco'], row['d_eco_road'], s=size, label=row['method_name'] + ' & Road')\n",
    "\n",
    "# label each scatter point with a tuple of (d_road_eco, d_eco_road), ha is center\n",
    "for i, row in BiDir_distance.iterrows():\n",
    "    ax.text(row['d_road_eco'], row['d_eco_road'], (round(row['d_road_eco'], 4), round(row['d_eco_road'], 4)), ha='right')\n",
    "\n",
    "ax.set_xlabel('d (road, eco)')\n",
    "ax.set_ylabel('d (eco, road)')\n",
    "ax.legend()\n",
    "plt.show()"
   ]
  },
  {
   "cell_type": "markdown",
   "metadata": {},
   "source": [
    "### Other approaches for comparison"
   ]
  },
  {
   "cell_type": "code",
   "execution_count": 51,
   "metadata": {},
   "outputs": [
    {
     "data": {
      "text/html": [
       "<div>\n",
       "<style scoped>\n",
       "    .dataframe tbody tr th:only-of-type {\n",
       "        vertical-align: middle;\n",
       "    }\n",
       "\n",
       "    .dataframe tbody tr th {\n",
       "        vertical-align: top;\n",
       "    }\n",
       "\n",
       "    .dataframe thead th {\n",
       "        text-align: right;\n",
       "    }\n",
       "</style>\n",
       "<table border=\"1\" class=\"dataframe\">\n",
       "  <thead>\n",
       "    <tr style=\"text-align: right;\">\n",
       "      <th></th>\n",
       "      <th>eco_commu_method</th>\n",
       "      <th>road_commu_method</th>\n",
       "      <th>d_road_eco</th>\n",
       "      <th>d_eco_road</th>\n",
       "      <th>F_road_road</th>\n",
       "      <th>F_road_eco</th>\n",
       "      <th>F_eco_road</th>\n",
       "      <th>F_eco_eco</th>\n",
       "      <th>method_name</th>\n",
       "    </tr>\n",
       "  </thead>\n",
       "  <tbody>\n",
       "    <tr>\n",
       "      <th>0</th>\n",
       "      <td>community_GMC_id_8</td>\n",
       "      <td>community_id3</td>\n",
       "      <td>0.955003</td>\n",
       "      <td>6.969360</td>\n",
       "      <td>0.20365</td>\n",
       "      <td>0.009164</td>\n",
       "      <td>-0.012890</td>\n",
       "      <td>0.002159</td>\n",
       "      <td>GMM(GreedyModularity)</td>\n",
       "    </tr>\n",
       "    <tr>\n",
       "      <th>1</th>\n",
       "      <td>community_Bicluster_id_8</td>\n",
       "      <td>community_id3</td>\n",
       "      <td>1.120768</td>\n",
       "      <td>0.573554</td>\n",
       "      <td>0.20365</td>\n",
       "      <td>-0.024595</td>\n",
       "      <td>-0.012890</td>\n",
       "      <td>-0.030226</td>\n",
       "      <td>Spectral(Bicluster)</td>\n",
       "    </tr>\n",
       "    <tr>\n",
       "      <th>2</th>\n",
       "      <td>community_Spectral_id_8</td>\n",
       "      <td>community_id3</td>\n",
       "      <td>1.031126</td>\n",
       "      <td>0.410945</td>\n",
       "      <td>0.20365</td>\n",
       "      <td>-0.006339</td>\n",
       "      <td>-0.012890</td>\n",
       "      <td>-0.021882</td>\n",
       "      <td>Spectral(Kmeans)</td>\n",
       "    </tr>\n",
       "    <tr>\n",
       "      <th>3</th>\n",
       "      <td>community_8_cut4</td>\n",
       "      <td>community_id6</td>\n",
       "      <td>1.120768</td>\n",
       "      <td>3.391290</td>\n",
       "      <td>0.20365</td>\n",
       "      <td>-0.024595</td>\n",
       "      <td>0.023431</td>\n",
       "      <td>-0.009798</td>\n",
       "      <td>Markov(after_cut4)</td>\n",
       "    </tr>\n",
       "  </tbody>\n",
       "</table>\n",
       "</div>"
      ],
      "text/plain": [
       "           eco_commu_method road_commu_method  d_road_eco  d_eco_road  \\\n",
       "0        community_GMC_id_8     community_id3    0.955003    6.969360   \n",
       "1  community_Bicluster_id_8     community_id3    1.120768    0.573554   \n",
       "2   community_Spectral_id_8     community_id3    1.031126    0.410945   \n",
       "3          community_8_cut4     community_id6    1.120768    3.391290   \n",
       "\n",
       "   F_road_road  F_road_eco  F_eco_road  F_eco_eco            method_name  \n",
       "0      0.20365    0.009164   -0.012890   0.002159  GMM(GreedyModularity)  \n",
       "1      0.20365   -0.024595   -0.012890  -0.030226    Spectral(Bicluster)  \n",
       "2      0.20365   -0.006339   -0.012890  -0.021882       Spectral(Kmeans)  \n",
       "3      0.20365   -0.024595    0.023431  -0.009798     Markov(after_cut4)  "
      ]
     },
     "execution_count": 51,
     "metadata": {},
     "output_type": "execute_result"
    }
   ],
   "source": [
    "BiDir_distance"
   ]
  },
  {
   "cell_type": "code",
   "execution_count": 52,
   "metadata": {},
   "outputs": [
    {
     "data": {
      "text/plain": [
       "['community_GMC_id_8', 'community_Bicluster_id_8', 'community_Spectral_id_8']"
      ]
     },
     "execution_count": 52,
     "metadata": {},
     "output_type": "execute_result"
    }
   ],
   "source": [
    "eco_com_list"
   ]
  },
  {
   "cell_type": "code",
   "execution_count": 53,
   "metadata": {},
   "outputs": [
    {
     "ename": "KeyError",
     "evalue": "'community_id6'",
     "output_type": "error",
     "traceback": [
      "\u001b[1;31m---------------------------------------------------------------------------\u001b[0m",
      "\u001b[1;31mKeyError\u001b[0m                                  Traceback (most recent call last)",
      "File \u001b[1;32mc:\\Users\\SBH\\anaconda3\\Lib\\site-packages\\pandas\\core\\indexes\\base.py:3805\u001b[0m, in \u001b[0;36mIndex.get_loc\u001b[1;34m(self, key)\u001b[0m\n\u001b[0;32m   3804\u001b[0m \u001b[38;5;28;01mtry\u001b[39;00m:\n\u001b[1;32m-> 3805\u001b[0m     \u001b[38;5;28;01mreturn\u001b[39;00m \u001b[38;5;28;43mself\u001b[39;49m\u001b[38;5;241;43m.\u001b[39;49m\u001b[43m_engine\u001b[49m\u001b[38;5;241;43m.\u001b[39;49m\u001b[43mget_loc\u001b[49m\u001b[43m(\u001b[49m\u001b[43mcasted_key\u001b[49m\u001b[43m)\u001b[49m\n\u001b[0;32m   3806\u001b[0m \u001b[38;5;28;01mexcept\u001b[39;00m \u001b[38;5;167;01mKeyError\u001b[39;00m \u001b[38;5;28;01mas\u001b[39;00m err:\n",
      "File \u001b[1;32mindex.pyx:167\u001b[0m, in \u001b[0;36mpandas._libs.index.IndexEngine.get_loc\u001b[1;34m()\u001b[0m\n",
      "File \u001b[1;32mindex.pyx:196\u001b[0m, in \u001b[0;36mpandas._libs.index.IndexEngine.get_loc\u001b[1;34m()\u001b[0m\n",
      "File \u001b[1;32mpandas\\\\_libs\\\\hashtable_class_helper.pxi:7081\u001b[0m, in \u001b[0;36mpandas._libs.hashtable.PyObjectHashTable.get_item\u001b[1;34m()\u001b[0m\n",
      "File \u001b[1;32mpandas\\\\_libs\\\\hashtable_class_helper.pxi:7089\u001b[0m, in \u001b[0;36mpandas._libs.hashtable.PyObjectHashTable.get_item\u001b[1;34m()\u001b[0m\n",
      "\u001b[1;31mKeyError\u001b[0m: 'community_id6'",
      "\nThe above exception was the direct cause of the following exception:\n",
      "\u001b[1;31mKeyError\u001b[0m                                  Traceback (most recent call last)",
      "Cell \u001b[1;32mIn[53], line 8\u001b[0m\n\u001b[0;32m      5\u001b[0m \u001b[38;5;28;01mfor\u001b[39;00m eco_com \u001b[38;5;129;01min\u001b[39;00m eco_com_list2:\n\u001b[0;32m      6\u001b[0m     \u001b[38;5;66;03m# 将DataFrame中的划分结果转换为字典\u001b[39;00m\n\u001b[0;32m      7\u001b[0m     partition_eco \u001b[38;5;241m=\u001b[39m Partition\u001b[38;5;241m.\u001b[39mset_index(\u001b[38;5;124m'\u001b[39m\u001b[38;5;124mdisplay_na\u001b[39m\u001b[38;5;124m'\u001b[39m)[eco_com]\u001b[38;5;241m.\u001b[39mto_dict()\n\u001b[1;32m----> 8\u001b[0m     partition_road \u001b[38;5;241m=\u001b[39m \u001b[43mPartition\u001b[49m\u001b[38;5;241;43m.\u001b[39;49m\u001b[43mset_index\u001b[49m\u001b[43m(\u001b[49m\u001b[38;5;124;43m'\u001b[39;49m\u001b[38;5;124;43mdisplay_na\u001b[39;49m\u001b[38;5;124;43m'\u001b[39;49m\u001b[43m)\u001b[49m\u001b[43m[\u001b[49m\u001b[38;5;124;43m'\u001b[39;49m\u001b[38;5;124;43mcommunity_id6\u001b[39;49m\u001b[38;5;124;43m'\u001b[39;49m\u001b[43m]\u001b[49m\u001b[38;5;241m.\u001b[39mto_dict()\n\u001b[0;32m     10\u001b[0m     \u001b[38;5;66;03m# 转换分区字典为列表\u001b[39;00m\n\u001b[0;32m     11\u001b[0m     labels_true \u001b[38;5;241m=\u001b[39m \u001b[38;5;28mlist\u001b[39m(partition_road\u001b[38;5;241m.\u001b[39mvalues())\n",
      "File \u001b[1;32mc:\\Users\\SBH\\anaconda3\\Lib\\site-packages\\pandas\\core\\frame.py:4102\u001b[0m, in \u001b[0;36mDataFrame.__getitem__\u001b[1;34m(self, key)\u001b[0m\n\u001b[0;32m   4100\u001b[0m \u001b[38;5;28;01mif\u001b[39;00m \u001b[38;5;28mself\u001b[39m\u001b[38;5;241m.\u001b[39mcolumns\u001b[38;5;241m.\u001b[39mnlevels \u001b[38;5;241m>\u001b[39m \u001b[38;5;241m1\u001b[39m:\n\u001b[0;32m   4101\u001b[0m     \u001b[38;5;28;01mreturn\u001b[39;00m \u001b[38;5;28mself\u001b[39m\u001b[38;5;241m.\u001b[39m_getitem_multilevel(key)\n\u001b[1;32m-> 4102\u001b[0m indexer \u001b[38;5;241m=\u001b[39m \u001b[38;5;28;43mself\u001b[39;49m\u001b[38;5;241;43m.\u001b[39;49m\u001b[43mcolumns\u001b[49m\u001b[38;5;241;43m.\u001b[39;49m\u001b[43mget_loc\u001b[49m\u001b[43m(\u001b[49m\u001b[43mkey\u001b[49m\u001b[43m)\u001b[49m\n\u001b[0;32m   4103\u001b[0m \u001b[38;5;28;01mif\u001b[39;00m is_integer(indexer):\n\u001b[0;32m   4104\u001b[0m     indexer \u001b[38;5;241m=\u001b[39m [indexer]\n",
      "File \u001b[1;32mc:\\Users\\SBH\\anaconda3\\Lib\\site-packages\\pandas\\core\\indexes\\base.py:3812\u001b[0m, in \u001b[0;36mIndex.get_loc\u001b[1;34m(self, key)\u001b[0m\n\u001b[0;32m   3807\u001b[0m     \u001b[38;5;28;01mif\u001b[39;00m \u001b[38;5;28misinstance\u001b[39m(casted_key, \u001b[38;5;28mslice\u001b[39m) \u001b[38;5;129;01mor\u001b[39;00m (\n\u001b[0;32m   3808\u001b[0m         \u001b[38;5;28misinstance\u001b[39m(casted_key, abc\u001b[38;5;241m.\u001b[39mIterable)\n\u001b[0;32m   3809\u001b[0m         \u001b[38;5;129;01mand\u001b[39;00m \u001b[38;5;28many\u001b[39m(\u001b[38;5;28misinstance\u001b[39m(x, \u001b[38;5;28mslice\u001b[39m) \u001b[38;5;28;01mfor\u001b[39;00m x \u001b[38;5;129;01min\u001b[39;00m casted_key)\n\u001b[0;32m   3810\u001b[0m     ):\n\u001b[0;32m   3811\u001b[0m         \u001b[38;5;28;01mraise\u001b[39;00m InvalidIndexError(key)\n\u001b[1;32m-> 3812\u001b[0m     \u001b[38;5;28;01mraise\u001b[39;00m \u001b[38;5;167;01mKeyError\u001b[39;00m(key) \u001b[38;5;28;01mfrom\u001b[39;00m \u001b[38;5;21;01merr\u001b[39;00m\n\u001b[0;32m   3813\u001b[0m \u001b[38;5;28;01mexcept\u001b[39;00m \u001b[38;5;167;01mTypeError\u001b[39;00m:\n\u001b[0;32m   3814\u001b[0m     \u001b[38;5;66;03m# If we have a listlike key, _check_indexing_error will raise\u001b[39;00m\n\u001b[0;32m   3815\u001b[0m     \u001b[38;5;66;03m#  InvalidIndexError. Otherwise we fall through and re-raise\u001b[39;00m\n\u001b[0;32m   3816\u001b[0m     \u001b[38;5;66;03m#  the TypeError.\u001b[39;00m\n\u001b[0;32m   3817\u001b[0m     \u001b[38;5;28mself\u001b[39m\u001b[38;5;241m.\u001b[39m_check_indexing_error(key)\n",
      "\u001b[1;31mKeyError\u001b[0m: 'community_id6'"
     ]
    }
   ],
   "source": [
    "# calculate the NMI between the two partitions\n",
    "from sklearn.metrics import normalized_mutual_info_score\n",
    "\n",
    "eco_com_list2 = Partition.columns[4:8].tolist()\n",
    "for eco_com in eco_com_list2:\n",
    "    # 将DataFrame中的划分结果转换为字典\n",
    "    partition_eco = Partition.set_index('display_na')[eco_com].to_dict()\n",
    "    partition_road = Partition.set_index('display_na')['community_id6'].to_dict()\n",
    "\n",
    "    # 转换分区字典为列表\n",
    "    labels_true = list(partition_road.values())\n",
    "    labels_pred = list(partition_eco.values())\n",
    "\n",
    "    # 计算NMI\n",
    "    nmi_score = normalized_mutual_info_score(labels_true, labels_pred)\n",
    "\n",
    "    # save the nmi_score to the BiDir_distance dataframe\n",
    "    BiDir_distance.loc[BiDir_distance['eco_commu_method'] == eco_com, 'NMI'] = nmi_score\n",
    "    # 输出结果\n",
    "    print(\"NMI score:\", nmi_score)"
   ]
  },
  {
   "cell_type": "code",
   "execution_count": null,
   "metadata": {},
   "outputs": [
    {
     "data": {
      "text/html": [
       "<div>\n",
       "<style scoped>\n",
       "    .dataframe tbody tr th:only-of-type {\n",
       "        vertical-align: middle;\n",
       "    }\n",
       "\n",
       "    .dataframe tbody tr th {\n",
       "        vertical-align: top;\n",
       "    }\n",
       "\n",
       "    .dataframe thead th {\n",
       "        text-align: right;\n",
       "    }\n",
       "</style>\n",
       "<table border=\"1\" class=\"dataframe\">\n",
       "  <thead>\n",
       "    <tr style=\"text-align: right;\">\n",
       "      <th></th>\n",
       "      <th>eco_commu_method</th>\n",
       "      <th>road_commu_method</th>\n",
       "      <th>d_road_eco</th>\n",
       "      <th>d_eco_road</th>\n",
       "      <th>F_road_road</th>\n",
       "      <th>F_road_eco</th>\n",
       "      <th>F_eco_road</th>\n",
       "      <th>F_eco_eco</th>\n",
       "      <th>method_name</th>\n",
       "      <th>NMI</th>\n",
       "      <th>Jaccard</th>\n",
       "    </tr>\n",
       "  </thead>\n",
       "  <tbody>\n",
       "    <tr>\n",
       "      <th>0</th>\n",
       "      <td>community_GMC_id_8</td>\n",
       "      <td>community_id6</td>\n",
       "      <td>0.352761</td>\n",
       "      <td>0.032325</td>\n",
       "      <td>1.541422</td>\n",
       "      <td>0.997668</td>\n",
       "      <td>0.969767</td>\n",
       "      <td>1.002162</td>\n",
       "      <td>GMM(GreedyModularity)</td>\n",
       "      <td>0.399160</td>\n",
       "      <td>0.019608</td>\n",
       "    </tr>\n",
       "    <tr>\n",
       "      <th>1</th>\n",
       "      <td>community_Bicluster_id_8</td>\n",
       "      <td>community_id6</td>\n",
       "      <td>0.351484</td>\n",
       "      <td>0.000473</td>\n",
       "      <td>1.541422</td>\n",
       "      <td>0.999637</td>\n",
       "      <td>0.969767</td>\n",
       "      <td>0.970226</td>\n",
       "      <td>Spectral(Bicluster)</td>\n",
       "      <td>0.445936</td>\n",
       "      <td>NaN</td>\n",
       "    </tr>\n",
       "    <tr>\n",
       "      <th>2</th>\n",
       "      <td>community_Spectral_id_8</td>\n",
       "      <td>community_id6</td>\n",
       "      <td>0.351309</td>\n",
       "      <td>0.008778</td>\n",
       "      <td>1.541422</td>\n",
       "      <td>0.999906</td>\n",
       "      <td>0.969767</td>\n",
       "      <td>0.978355</td>\n",
       "      <td>Spectral(Kmeans)</td>\n",
       "      <td>0.421916</td>\n",
       "      <td>NaN</td>\n",
       "    </tr>\n",
       "    <tr>\n",
       "      <th>3</th>\n",
       "      <td>community_8_cut4</td>\n",
       "      <td>community_id6</td>\n",
       "      <td>0.378147</td>\n",
       "      <td>-0.011456</td>\n",
       "      <td>1.541422</td>\n",
       "      <td>0.958538</td>\n",
       "      <td>0.978153</td>\n",
       "      <td>0.967074</td>\n",
       "      <td>Markov(after_cut4)</td>\n",
       "      <td>0.705655</td>\n",
       "      <td>NaN</td>\n",
       "    </tr>\n",
       "  </tbody>\n",
       "</table>\n",
       "</div>"
      ],
      "text/plain": [
       "           eco_commu_method road_commu_method  d_road_eco  d_eco_road  \\\n",
       "0        community_GMC_id_8     community_id6    0.352761    0.032325   \n",
       "1  community_Bicluster_id_8     community_id6    0.351484    0.000473   \n",
       "2   community_Spectral_id_8     community_id6    0.351309    0.008778   \n",
       "3          community_8_cut4     community_id6    0.378147   -0.011456   \n",
       "\n",
       "   F_road_road  F_road_eco  F_eco_road  F_eco_eco            method_name  \\\n",
       "0     1.541422    0.997668    0.969767   1.002162  GMM(GreedyModularity)   \n",
       "1     1.541422    0.999637    0.969767   0.970226    Spectral(Bicluster)   \n",
       "2     1.541422    0.999906    0.969767   0.978355       Spectral(Kmeans)   \n",
       "3     1.541422    0.958538    0.978153   0.967074     Markov(after_cut4)   \n",
       "\n",
       "        NMI   Jaccard  \n",
       "0  0.399160  0.019608  \n",
       "1  0.445936       NaN  \n",
       "2  0.421916       NaN  \n",
       "3  0.705655       NaN  "
      ]
     },
     "execution_count": 374,
     "metadata": {},
     "output_type": "execute_result"
    }
   ],
   "source": [
    "# add a new column called 'NMI' to the BiDir_distance DataFrame, and add the values of NMI between the two partitions\n",
    "BiDir_distance"
   ]
  },
  {
   "cell_type": "code",
   "execution_count": null,
   "metadata": {},
   "outputs": [
    {
     "name": "stdout",
     "output_type": "stream",
     "text": [
      "Jaccard score: <function jaccard_score at 0x0000022E011E3740>\n",
      "Jaccard score: <function jaccard_score at 0x0000022E011E3740>\n",
      "Jaccard score: <function jaccard_score at 0x0000022E011E3740>\n",
      "Jaccard score: <function jaccard_score at 0x0000022E011E3740>\n"
     ]
    },
    {
     "data": {
      "text/html": [
       "<div>\n",
       "<style scoped>\n",
       "    .dataframe tbody tr th:only-of-type {\n",
       "        vertical-align: middle;\n",
       "    }\n",
       "\n",
       "    .dataframe tbody tr th {\n",
       "        vertical-align: top;\n",
       "    }\n",
       "\n",
       "    .dataframe thead th {\n",
       "        text-align: right;\n",
       "    }\n",
       "</style>\n",
       "<table border=\"1\" class=\"dataframe\">\n",
       "  <thead>\n",
       "    <tr style=\"text-align: right;\">\n",
       "      <th></th>\n",
       "      <th>eco_commu_method</th>\n",
       "      <th>road_commu_method</th>\n",
       "      <th>d_road_eco</th>\n",
       "      <th>d_eco_road</th>\n",
       "      <th>F_road_road</th>\n",
       "      <th>F_road_eco</th>\n",
       "      <th>F_eco_road</th>\n",
       "      <th>F_eco_eco</th>\n",
       "      <th>method_name</th>\n",
       "      <th>NMI</th>\n",
       "      <th>Jaccard</th>\n",
       "    </tr>\n",
       "  </thead>\n",
       "  <tbody>\n",
       "    <tr>\n",
       "      <th>0</th>\n",
       "      <td>community_GMC_id_8</td>\n",
       "      <td>community_id6</td>\n",
       "      <td>0.352761</td>\n",
       "      <td>0.032325</td>\n",
       "      <td>1.541422</td>\n",
       "      <td>0.997668</td>\n",
       "      <td>0.969767</td>\n",
       "      <td>1.002162</td>\n",
       "      <td>GMM(GreedyModularity)</td>\n",
       "      <td>0.399160</td>\n",
       "      <td>0.019608</td>\n",
       "    </tr>\n",
       "    <tr>\n",
       "      <th>1</th>\n",
       "      <td>community_Bicluster_id_8</td>\n",
       "      <td>community_id6</td>\n",
       "      <td>0.351484</td>\n",
       "      <td>0.000473</td>\n",
       "      <td>1.541422</td>\n",
       "      <td>0.999637</td>\n",
       "      <td>0.969767</td>\n",
       "      <td>0.970226</td>\n",
       "      <td>Spectral(Bicluster)</td>\n",
       "      <td>0.445936</td>\n",
       "      <td>0.061224</td>\n",
       "    </tr>\n",
       "    <tr>\n",
       "      <th>2</th>\n",
       "      <td>community_Spectral_id_8</td>\n",
       "      <td>community_id6</td>\n",
       "      <td>0.351309</td>\n",
       "      <td>0.008778</td>\n",
       "      <td>1.541422</td>\n",
       "      <td>0.999906</td>\n",
       "      <td>0.969767</td>\n",
       "      <td>0.978355</td>\n",
       "      <td>Spectral(Kmeans)</td>\n",
       "      <td>0.421916</td>\n",
       "      <td>0.061224</td>\n",
       "    </tr>\n",
       "    <tr>\n",
       "      <th>3</th>\n",
       "      <td>community_8_cut4</td>\n",
       "      <td>community_id6</td>\n",
       "      <td>0.378147</td>\n",
       "      <td>-0.011456</td>\n",
       "      <td>1.541422</td>\n",
       "      <td>0.958538</td>\n",
       "      <td>0.978153</td>\n",
       "      <td>0.967074</td>\n",
       "      <td>Markov(after_cut4)</td>\n",
       "      <td>0.705655</td>\n",
       "      <td>0.040000</td>\n",
       "    </tr>\n",
       "  </tbody>\n",
       "</table>\n",
       "</div>"
      ],
      "text/plain": [
       "           eco_commu_method road_commu_method  d_road_eco  d_eco_road  \\\n",
       "0        community_GMC_id_8     community_id6    0.352761    0.032325   \n",
       "1  community_Bicluster_id_8     community_id6    0.351484    0.000473   \n",
       "2   community_Spectral_id_8     community_id6    0.351309    0.008778   \n",
       "3          community_8_cut4     community_id6    0.378147   -0.011456   \n",
       "\n",
       "   F_road_road  F_road_eco  F_eco_road  F_eco_eco            method_name  \\\n",
       "0     1.541422    0.997668    0.969767   1.002162  GMM(GreedyModularity)   \n",
       "1     1.541422    0.999637    0.969767   0.970226    Spectral(Bicluster)   \n",
       "2     1.541422    0.999906    0.969767   0.978355       Spectral(Kmeans)   \n",
       "3     1.541422    0.958538    0.978153   0.967074     Markov(after_cut4)   \n",
       "\n",
       "        NMI   Jaccard  \n",
       "0  0.399160  0.019608  \n",
       "1  0.445936  0.061224  \n",
       "2  0.421916  0.061224  \n",
       "3  0.705655  0.040000  "
      ]
     },
     "execution_count": 375,
     "metadata": {},
     "output_type": "execute_result"
    }
   ],
   "source": [
    "# calculate the Jaccard distance between the two partitions\n",
    "from sklearn.metrics import jaccard_score\n",
    "\n",
    "for eco_com in eco_com_list2:\n",
    "    # 将DataFrame中的划分结果转换为字典\n",
    "    partition_eco = Partition.set_index('display_na')[eco_com].to_dict()\n",
    "    partition_road = Partition.set_index('display_na')['community_id6'].to_dict()\n",
    "\n",
    "    # 转换分区字典为列表\n",
    "    labels_true = list(partition_road.values())\n",
    "    labels_pred = list(partition_eco.values())\n",
    "\n",
    "    # 计算Jaccard距离\n",
    "    jaccard_dist = jaccard_score(labels_true, labels_pred, average='micro')\n",
    "\n",
    "    # save the jaccard_score to the BiDir_distance dataframe\n",
    "    BiDir_distance.loc[BiDir_distance['eco_commu_method'] == eco_com, 'Jaccard'] = jaccard_dist\n",
    "    # 输出结果\n",
    "    print(\"Jaccard score:\", jaccard_score)\n",
    "\n",
    "BiDir_distance\n"
   ]
  },
  {
   "cell_type": "code",
   "execution_count": null,
   "metadata": {},
   "outputs": [
    {
     "data": {
      "image/png": "[encoded data removed]",
      "text/plain": [
       "<Figure size 640x480 with 2 Axes>"
      ]
     },
     "metadata": {},
     "output_type": "display_data"
    }
   ],
   "source": [
    "# 绘制散点图\n",
    "fig, ax = plt.subplots()\n",
    "\n",
    "# 设置 x 和 y 轴范围，并添加对角线虚线\n",
    "ax.set_xlim(0.2, 0.4)\n",
    "ax.set_ylim(-0.02, 0.1)\n",
    "ax.plot([0, 1], [0, 1], 'k--')\n",
    "\n",
    "# 设置散点的大小\n",
    "size = 70\n",
    "\n",
    "# 根据 NMI 列的数值大小进行颜色映射\n",
    "sc = ax.scatter(BiDir_distance['d_road_eco'], BiDir_distance['d_eco_road'], c=BiDir_distance['NMI'], s=size, cmap='viridis', alpha=0.8)\n",
    "\n",
    "# 添加颜色条\n",
    "cbar = plt.colorbar(sc, ax=ax)\n",
    "cbar.set_label('NMI')\n",
    "\n",
    "# 为每个散点添加标签\n",
    "for i, row in BiDir_distance.iterrows():\n",
    "    ax.text(row['d_road_eco'], row['d_eco_road'], (round(row['d_road_eco'], 4), round(row['d_eco_road'], 4)), ha='right')\n",
    "\n",
    "ax.set_xlabel('d (road, eco)')\n",
    "ax.set_ylabel('d (eco, road)')\n",
    "plt.show()"
   ]
  },
  {
   "cell_type": "code",
   "execution_count": 380,
   "metadata": {},
   "outputs": [
    {
     "data": {
      "image/png": "[encoded data removed]",
      "text/plain": [
       "<Figure size 640x480 with 2 Axes>"
      ]
     },
     "metadata": {},
     "output_type": "display_data"
    }
   ],
   "source": [
    "# 绘制散点图\n",
    "fig, ax = plt.subplots()\n",
    "\n",
    "# 设置 x 和 y 轴范围，并添加对角线虚线\n",
    "ax.set_xlim(0.2, 0.4)\n",
    "ax.set_ylim(-0.02, 0.1)\n",
    "ax.plot([0, 1], [0, 1], 'k--')\n",
    "\n",
    "# 设置散点的大小\n",
    "size = 70\n",
    "\n",
    "# 根据 NMI 列的数值大小进行颜色映射\n",
    "sc = ax.scatter(BiDir_distance['d_road_eco'], BiDir_distance['d_eco_road'], c=BiDir_distance['Jaccard'], s=size, cmap='viridis', alpha=0.8)\n",
    "\n",
    "# 添加颜色条\n",
    "cbar = plt.colorbar(sc, ax=ax)\n",
    "cbar.set_label('Jaccard')\n",
    "\n",
    "# 为每个散点添加标签\n",
    "for i, row in BiDir_distance.iterrows():\n",
    "    ax.text(row['d_road_eco'], row['d_eco_road'], (round(row['d_road_eco'], 4), round(row['d_eco_road'], 4)), ha='right')\n",
    "\n",
    "ax.set_xlabel('d (road, eco)')\n",
    "ax.set_ylabel('d (eco, road)')\n",
    "plt.show()"
   ]
  }
 ],
 "metadata": {
  "kernelspec": {
   "display_name": "base",
   "language": "python",
   "name": "python3"
  },
  "language_info": {
   "codemirror_mode": {
    "name": "ipython",
    "version": 3
   },
   "file_extension": ".py",
   "mimetype": "text/x-python",
   "name": "python",
   "nbconvert_exporter": "python",
   "pygments_lexer": "ipython3",
   "version": "3.11.5"
  }
 },
 "nbformat": 4,
 "nbformat_minor": 2
}
